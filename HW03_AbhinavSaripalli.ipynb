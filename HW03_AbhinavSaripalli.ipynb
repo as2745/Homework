{
 "cells": [
  {
   "cell_type": "code",
   "execution_count": null,
   "metadata": {},
   "outputs": [],
   "source": [
    "# Abhinav Saripalli\n",
    "# 2020/02/07\n",
    "# CS301-006, Professor Watson\n",
    "# HW03 Solution\n",
    "# using DataFrame with pandas along with mean and standard deviation\n",
    "# https://github.com/as2745/Homework\n",
    "# https://github.com/as2745/Homework/blob/master/HW03_AbhinavSaripalli.ipynb\n",
    "# Homework"
   ]
  },
  {
   "cell_type": "code",
   "execution_count": 1,
   "metadata": {},
   "outputs": [],
   "source": [
    "import pandas as pd\n",
    "def data_reader(data_path):\n",
    "    try:\n",
    "        data = pd.read_csv(data_path)\n",
    "        print('The shape is:', data.shape)\n",
    "        return data\n",
    "    except:\n",
    "        print('Error during reading, please try again')"
   ]
  },
  {
   "cell_type": "code",
   "execution_count": 2,
   "metadata": {},
   "outputs": [],
   "source": [
    "#Problem 2\n",
    "import numpy as np\n",
    "import pandas as pd\n",
    "def get_num_outliers(df, col):\n",
    "    count=0\n",
    "    data=df[col]\n",
    "    lownum=(np.quantile(data, .25))-1.5*(np.quantile(data, .75)-np.quantile(data, .25))\n",
    "    highnum=(np.quantile(data, .75))+1.5*(np.quantile(data, .75)-np.quantile(data, .25))\n",
    "    for num in data:\n",
    "        if num<lownum or num>highnum:\n",
    "            count+=1\n",
    "    return count"
   ]
  },
  {
   "cell_type": "code",
   "execution_count": 3,
   "metadata": {},
   "outputs": [],
   "source": [
    "#Problem 3\n",
    "import numpy as np\n",
    "import pandas as pd\n",
    "def get_num_deviants(df, col, multiplier):\n",
    "    count=0\n",
    "    data=df[col]\n",
    "    mean=pd.DataFrame.mean(data)\n",
    "    stdev1=pd.DataFrame.std(data)\n",
    "    num1=(multiplier*stdev1)+mean\n",
    "    num2=0-num1\n",
    "    for num in data:\n",
    "        if num < num1 and num2<num:\n",
    "            count+=1\n",
    "        else:\n",
    "            continue\n",
    "    return len(data)-count"
   ]
  },
  {
   "cell_type": "code",
   "execution_count": 10,
   "metadata": {},
   "outputs": [
    {
     "name": "stdout",
     "output_type": "stream",
     "text": [
      "The shape is: (193, 6)\n"
     ]
    },
    {
     "data": {
      "text/plain": [
       "15"
      ]
     },
     "execution_count": 10,
     "metadata": {},
     "output_type": "execute_result"
    }
   ],
   "source": [
    "import pandas as pd\n",
    "data_path='C://Users//Abhinav//Downloads//drinks.csv'\n",
    "data_reader(data_path)\n",
    "get_num_outliers(data, 'wine_servings')\n",
    "get_num_deviants(data, 'wine_servings', 2)"
   ]
  }
 ],
 "metadata": {
  "kernelspec": {
   "display_name": "Python 3",
   "language": "python",
   "name": "python3"
  },
  "language_info": {
   "codemirror_mode": {
    "name": "ipython",
    "version": 3
   },
   "file_extension": ".py",
   "mimetype": "text/x-python",
   "name": "python",
   "nbconvert_exporter": "python",
   "pygments_lexer": "ipython3",
   "version": "3.7.4"
  }
 },
 "nbformat": 4,
 "nbformat_minor": 2
}
